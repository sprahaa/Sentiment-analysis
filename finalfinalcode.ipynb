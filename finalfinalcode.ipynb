{
 "cells": [
  {
   "cell_type": "code",
   "execution_count": null,
   "id": "77a49f27",
   "metadata": {},
   "outputs": [],
   "source": [
    "import numpy as np\n",
    "import pandas as pd \n",
    "import seaborn as sns\n",
    "import matplotlib.pyplot as plt\n",
    "from sklearn.feature_extraction.text import CountVectorizer\n",
    "import re\n",
    "from collections import Counter\n",
    "import nltk\n",
    "import string\n",
    "from nltk.corpus import stopwords"
   ]
  },
  {
   "cell_type": "code",
   "execution_count": null,
   "id": "4e48f7aa",
   "metadata": {},
   "outputs": [],
   "source": [
    "import os\n",
    "print(os.listdir(\"C:/Users/91982/Desktop/NTCC\"))"
   ]
  },
  {
   "cell_type": "code",
   "execution_count": null,
   "id": "2e67bf3d",
   "metadata": {},
   "outputs": [],
   "source": [
    "df= pd.read_csv(\"C:/Users/91982/Desktop/NTCC/Reviews.csv\")"
   ]
  },
  {
   "cell_type": "code",
   "execution_count": null,
   "id": "1e87e430",
   "metadata": {},
   "outputs": [],
   "source": [
    "df.head()"
   ]
  },
  {
   "cell_type": "code",
   "execution_count": null,
   "id": "7b6da740",
   "metadata": {},
   "outputs": [],
   "source": [
    "df.columns"
   ]
  },
  {
   "cell_type": "code",
   "execution_count": null,
   "id": "b5f1445b",
   "metadata": {},
   "outputs": [],
   "source": [
    "df.describe()"
   ]
  },
  {
   "cell_type": "code",
   "execution_count": null,
   "id": "bc2e8109",
   "metadata": {},
   "outputs": [],
   "source": [
    "df.info()"
   ]
  },
  {
   "cell_type": "code",
   "execution_count": null,
   "id": "b1bc7da4",
   "metadata": {},
   "outputs": [],
   "source": [
    "data1=pd.DataFrame(df.groupby('Score').size().sort_values(ascending=False).rename('No of Users').reset_index())\n",
    "data1.head()"
   ]
  },
  {
   "cell_type": "code",
   "execution_count": null,
   "id": "e388667b",
   "metadata": {},
   "outputs": [],
   "source": [
    "data2 = df[['Score' , 'Text' , 'Summary' , 'UserId']]\n",
    "finaldata=data2.dropna()\n",
    "finaldata.head()"
   ]
  },
  {
   "cell_type": "code",
   "execution_count": null,
   "id": "5c6b2781",
   "metadata": {},
   "outputs": [],
   "source": [
    "finaldata['Summary'].fillna(\"Good\", inplace = True)"
   ]
  },
  {
   "cell_type": "code",
   "execution_count": null,
   "id": "a44e9991",
   "metadata": {
    "scrolled": true
   },
   "outputs": [],
   "source": [
    "finaldata.isnull().sum()"
   ]
  },
  {
   "cell_type": "code",
   "execution_count": null,
   "id": "4b0bd44e",
   "metadata": {},
   "outputs": [],
   "source": [
    "finaldata[\"Sentiment\"] = finaldata[\"Score\"].apply(lambda score: \"positive\" if score > 3 else \"negative\")\n",
    "finaldata['Sentiment'] = finaldata['Sentiment'].map({'positive':1, 'negative':0})"
   ]
  },
  {
   "cell_type": "code",
   "execution_count": null,
   "id": "1117715f",
   "metadata": {},
   "outputs": [],
   "source": [
    "finaldata.columns"
   ]
  },
  {
   "cell_type": "code",
   "execution_count": null,
   "id": "f2701ff0",
   "metadata": {},
   "outputs": [],
   "source": [
    "Senti = finaldata[(finaldata['Sentiment']== 0) | (finaldata['Sentiment']==1)]\n",
    "print(Senti)"
   ]
  },
  {
   "cell_type": "code",
   "execution_count": null,
   "id": "65f0ae37",
   "metadata": {},
   "outputs": [],
   "source": [
    "y = Senti['Sentiment']\n",
    "x = Senti['Summary']\n",
    "print(x)"
   ]
  },
  {
   "cell_type": "code",
   "execution_count": null,
   "id": "b6e09523",
   "metadata": {},
   "outputs": [],
   "source": [
    "print(y)"
   ]
  },
  {
   "cell_type": "code",
   "execution_count": null,
   "id": "e4657e32",
   "metadata": {},
   "outputs": [],
   "source": [
    "stop = set(stopwords.words('english'))"
   ]
  },
  {
   "cell_type": "code",
   "execution_count": null,
   "id": "74fce72a",
   "metadata": {},
   "outputs": [],
   "source": [
    "text = Senti['Text']\n",
    "labels = Senti['Sentiment']"
   ]
  },
  {
   "cell_type": "code",
   "execution_count": null,
   "id": "5f78b22e",
   "metadata": {},
   "outputs": [],
   "source": [
    "def clean_document(doco):\n",
    "    punctuation = string.punctuation\n",
    "    punc_replace = ''.join([' ' for s in punctuation])\n",
    "    doco_link_clean = re.sub(r'http\\S+', '', doco)\n",
    "    doco_clean_and = re.sub(r'&\\S+', '', doco_link_clean)\n",
    "    doco_clean_at = re.sub(r'@\\S+', '', doco_clean_and)\n",
    "    doco_clean = doco_clean_at.replace('-', ' ')\n",
    "    doco_alphas = re.sub(r'\\W +', ' ', doco_clean)\n",
    "    trans_table = str.maketrans(punctuation, punc_replace)\n",
    "    doco_clean = ' '.join([word.translate(trans_table) for word in doco_alphas.split(' ')])\n",
    "    doco_clean = doco_clean.split(' ')\n",
    "    p = re.compile(r'\\s*\\b(?=[a-z\\d]*([a-z\\d])\\1{3}|\\d+\\b)[a-z\\d]+', re.IGNORECASE)\n",
    "    doco_clean = ([p.sub(\"\", x).strip() for x in doco_clean])\n",
    "    doco_clean = [word.lower() for word in doco_clean if len(word) > 2]\n",
    "    doco_clean = ([i for i in doco_clean if i not in stop])\n",
    "    doco_clean = ([p.sub(\"\", x).strip() for x in doco_clean])\n",
    "\n",
    "    return doco_clean"
   ]
  },
  {
   "cell_type": "code",
   "execution_count": null,
   "id": "e1306c35",
   "metadata": {},
   "outputs": [],
   "source": [
    "clean = [clean_document(doc) for doc in text];\n",
    "sentence = [' '.join(r) for r in clean ]"
   ]
  },
  {
   "cell_type": "code",
   "execution_count": null,
   "id": "354b2471",
   "metadata": {},
   "outputs": [],
   "source": [
    "print(sentence[1])"
   ]
  },
  {
   "cell_type": "code",
   "execution_count": null,
   "id": "f4271c88",
   "metadata": {},
   "outputs": [],
   "source": [
    "print(text[1])"
   ]
  },
  {
   "cell_type": "code",
   "execution_count": null,
   "id": "417fb366",
   "metadata": {},
   "outputs": [],
   "source": [
    "def text_process(text):\n",
    "    nopunc = [char for char in text if char not in string.punctuation]\n",
    "    nopunc = ''.join(nopunc) \n",
    "    return [word for word in nopunc.split() if word.lower() not in stopwords.words('english')]"
   ]
  },
  {
   "cell_type": "code",
   "execution_count": null,
   "id": "e6a0ea30",
   "metadata": {},
   "outputs": [],
   "source": [
    "tokens = x[0].split()\n",
    "print(tokens)"
   ]
  },
  {
   "cell_type": "code",
   "execution_count": null,
   "id": "ef82e23f",
   "metadata": {},
   "outputs": [],
   "source": [
    "sample_text = \"Hey there! This is a project\"\n",
    "print(text_process(sample_text))"
   ]
  },
  {
   "cell_type": "code",
   "execution_count": null,
   "id": "66aca845",
   "metadata": {},
   "outputs": [],
   "source": [
    "vector = CountVectorizer(analyzer=text_process).fit(x)\n",
    "len(vector.vocabulary_)"
   ]
  },
  {
   "cell_type": "code",
   "execution_count": null,
   "id": "72d64536",
   "metadata": {},
   "outputs": [],
   "source": [
    "sample=x[20]\n",
    "v = vector.transform([sample])\n",
    "print(v)"
   ]
  },
  {
   "cell_type": "code",
   "execution_count": null,
   "id": "a726d136",
   "metadata": {},
   "outputs": [],
   "source": [
    "X = vector.transform(x)"
   ]
  },
  {
   "cell_type": "code",
   "execution_count": null,
   "id": "da5a2490",
   "metadata": {},
   "outputs": [],
   "source": [
    "from sklearn.model_selection import train_test_split\n",
    "X_train, X_test, y_train, y_test = train_test_split(X, y, train_size=0.8, random_state=101)"
   ]
  },
  {
   "cell_type": "code",
   "execution_count": null,
   "id": "60157f97",
   "metadata": {},
   "outputs": [],
   "source": [
    "from sklearn.linear_model import LogisticRegression\n",
    "LRmodel = LogisticRegression()\n",
    "LRmodel.fit(X_train, y_train)"
   ]
  },
  {
   "cell_type": "code",
   "execution_count": null,
   "id": "e69db877",
   "metadata": {},
   "outputs": [],
   "source": [
    "pred= LRmodel.predict(X_test)"
   ]
  },
  {
   "cell_type": "code",
   "execution_count": null,
   "id": "df59983c",
   "metadata": {},
   "outputs": [],
   "source": [
    "from sklearn.metrics import confusion_matrix\n",
    "from sklearn.metrics import classification_report\n",
    "cm = confusion_matrix(y_test, pred)\n",
    "print(cm)\n",
    "print('\\n')\n",
    "print(classification_report(y_test, pred))\n",
    "LRmodel.score(X_train, y_train)\n",
    "sns.heatmap(cm, annot=True, fmt='d')\n",
    "plt.xlabel('Predicted')\n",
    "plt.ylabel('Truth')"
   ]
  },
  {
   "cell_type": "code",
   "execution_count": null,
   "id": "00870970",
   "metadata": {},
   "outputs": [],
   "source": [
    "from sklearn.metrics import accuracy_score\n",
    "accuracy = accuracy_score(y_test, pred)\n",
    "print(accuracy)"
   ]
  },
  {
   "cell_type": "code",
   "execution_count": null,
   "id": "4aebd729",
   "metadata": {},
   "outputs": [],
   "source": [
    "from sklearn.metrics import recall_score\n",
    "recall = recall_score(y_test, pred, average=None)\n",
    "print(\"Recall :\",recall)"
   ]
  },
  {
   "cell_type": "code",
   "execution_count": null,
   "id": "6961d17d",
   "metadata": {},
   "outputs": [],
   "source": [
    "from sklearn.metrics import precision_score\n",
    "precision = precision_score(y_test, pred, average=None) \n",
    "print(\"Precision :\",precision)"
   ]
  },
  {
   "cell_type": "code",
   "execution_count": null,
   "id": "8cf28f71",
   "metadata": {},
   "outputs": [],
   "source": [
    "f1s = 2 * (precision * recall) / (precision + recall)\n",
    "print(\"F-1 Score :\",f1s)"
   ]
  },
  {
   "cell_type": "code",
   "execution_count": null,
   "id": "ac17900e",
   "metadata": {},
   "outputs": [],
   "source": [
    "pred1 = Senti['Summary'][544]\n",
    "pred1"
   ]
  },
  {
   "cell_type": "code",
   "execution_count": null,
   "id": "ee3b207d",
   "metadata": {},
   "outputs": [],
   "source": [
    "finaldata['Sentiment'][544]"
   ]
  },
  {
   "cell_type": "code",
   "execution_count": null,
   "id": "6cba3608",
   "metadata": {},
   "outputs": [],
   "source": [
    "op = vector.transform([pred1])\n",
    "LRmodel.predict(op)[0]"
   ]
  },
  {
   "cell_type": "code",
   "execution_count": null,
   "id": "d84f11f0",
   "metadata": {},
   "outputs": [],
   "source": []
  }
 ],
 "metadata": {
  "kernelspec": {
   "display_name": "Python 3 (ipykernel)",
   "language": "python",
   "name": "python3"
  },
  "language_info": {
   "codemirror_mode": {
    "name": "ipython",
    "version": 3
   },
   "file_extension": ".py",
   "mimetype": "text/x-python",
   "name": "python",
   "nbconvert_exporter": "python",
   "pygments_lexer": "ipython3",
   "version": "3.9.12"
  }
 },
 "nbformat": 4,
 "nbformat_minor": 5
}
