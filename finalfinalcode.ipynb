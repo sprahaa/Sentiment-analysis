{
 "cells": [
  {
   "cell_type": "code",
   "execution_count": 1,
   "id": "77a49f27",
   "metadata": {},
   "outputs": [],
   "source": [
    "import numpy as np\n",
    "import pandas as pd \n",
    "import seaborn as sns\n",
    "import matplotlib.pyplot as plt\n",
    "from sklearn.feature_extraction.text import CountVectorizer\n",
    "import re\n",
    "from collections import Counter\n",
    "import nltk\n",
    "import string\n",
    "from nltk.corpus import stopwords"
   ]
  },
  {
   "cell_type": "code",
   "execution_count": 2,
   "id": "4e48f7aa",
   "metadata": {},
   "outputs": [
    {
     "name": "stdout",
     "output_type": "stream",
     "text": [
      "['.ipynb_checkpoints', 'certifcate_manan.docx', 'certificate_spraha.docx', 'Code1 .ipynb', 'code1.ipynb', 'code2.ipynb', 'codentcc.txt', 'Data.zip', 'digital_WPR week-1 Spraha Kumawat_A2305220277.pdf', 'digital_WPR week-2 Spraha Kumawat_A2305220277.pdf', 'digitial_WPR_week-1.pdf', 'FinalCode.ipynb', 'finalfinalcode.ipynb', 'firstpage.py', 'fourth.py', 'Literature review.docx', 'LR.pickle', 'maincode.py', 'pic1.png', 'pic2.png', 'pic3.png', 'Reviews-original.csv', 'Reviews.csv', 'Reviews.html', 'second.py', 'sentiment', 'teststreamlit.py', 'third.py', 'third0.py', 'tsvcsv.py', 'Untitled.ipynb', 'Untitled1.ipynb', 'Untitled2.ipynb', 'vectorizer.pickle', 'Vs code.docx', 'WPR week-2 Spraha_Kumawat_A2305220277.pdf', 'wpr week-3 .pdf', '__pycache__']\n"
     ]
    }
   ],
   "source": [
    "import os\n",
    "print(os.listdir(\"C:/Users/91982/Desktop/NTCC\"))"
   ]
  },
  {
   "cell_type": "code",
   "execution_count": 3,
   "id": "2e67bf3d",
   "metadata": {},
   "outputs": [],
   "source": [
    "df= pd.read_csv(\"C:/Users/91982/Desktop/NTCC/Reviews.csv\")"
   ]
  },
  {
   "cell_type": "code",
   "execution_count": 4,
   "id": "1e87e430",
   "metadata": {},
   "outputs": [
    {
     "data": {
      "text/html": [
       "<div>\n",
       "<style scoped>\n",
       "    .dataframe tbody tr th:only-of-type {\n",
       "        vertical-align: middle;\n",
       "    }\n",
       "\n",
       "    .dataframe tbody tr th {\n",
       "        vertical-align: top;\n",
       "    }\n",
       "\n",
       "    .dataframe thead th {\n",
       "        text-align: right;\n",
       "    }\n",
       "</style>\n",
       "<table border=\"1\" class=\"dataframe\">\n",
       "  <thead>\n",
       "    <tr style=\"text-align: right;\">\n",
       "      <th></th>\n",
       "      <th>Id</th>\n",
       "      <th>ProductId</th>\n",
       "      <th>UserId</th>\n",
       "      <th>ProfileName</th>\n",
       "      <th>HelpfulnessNumerator</th>\n",
       "      <th>HelpfulnessDenominator</th>\n",
       "      <th>Score</th>\n",
       "      <th>Time</th>\n",
       "      <th>Summary</th>\n",
       "      <th>Text</th>\n",
       "    </tr>\n",
       "  </thead>\n",
       "  <tbody>\n",
       "    <tr>\n",
       "      <th>0</th>\n",
       "      <td>1</td>\n",
       "      <td>B001E4KFG0</td>\n",
       "      <td>A3SGXH7AUHU8GW</td>\n",
       "      <td>delmartian</td>\n",
       "      <td>1</td>\n",
       "      <td>1</td>\n",
       "      <td>5</td>\n",
       "      <td>1303862400</td>\n",
       "      <td>Good Quality Dog Food</td>\n",
       "      <td>I have bought several of the Vitality canned d...</td>\n",
       "    </tr>\n",
       "    <tr>\n",
       "      <th>1</th>\n",
       "      <td>2</td>\n",
       "      <td>B00813GRG4</td>\n",
       "      <td>A1D87F6ZCVE5NK</td>\n",
       "      <td>dll pa</td>\n",
       "      <td>0</td>\n",
       "      <td>0</td>\n",
       "      <td>1</td>\n",
       "      <td>1346976000</td>\n",
       "      <td>Not as Advertised</td>\n",
       "      <td>Product arrived labeled as Jumbo Salted Peanut...</td>\n",
       "    </tr>\n",
       "    <tr>\n",
       "      <th>2</th>\n",
       "      <td>3</td>\n",
       "      <td>B000LQOCH0</td>\n",
       "      <td>ABXLMWJIXXAIN</td>\n",
       "      <td>Natalia Corres \"Natalia Corres\"</td>\n",
       "      <td>1</td>\n",
       "      <td>1</td>\n",
       "      <td>4</td>\n",
       "      <td>1219017600</td>\n",
       "      <td>\"Delight\" says it all</td>\n",
       "      <td>This is a confection that has been around a fe...</td>\n",
       "    </tr>\n",
       "    <tr>\n",
       "      <th>3</th>\n",
       "      <td>4</td>\n",
       "      <td>B000UA0QIQ</td>\n",
       "      <td>A395BORC6FGVXV</td>\n",
       "      <td>Karl</td>\n",
       "      <td>3</td>\n",
       "      <td>3</td>\n",
       "      <td>2</td>\n",
       "      <td>1307923200</td>\n",
       "      <td>Cough Medicine</td>\n",
       "      <td>If you are looking for the secret ingredient i...</td>\n",
       "    </tr>\n",
       "    <tr>\n",
       "      <th>4</th>\n",
       "      <td>5</td>\n",
       "      <td>B006K2ZZ7K</td>\n",
       "      <td>A1UQRSCLF8GW1T</td>\n",
       "      <td>Michael D. Bigham \"M. Wassir\"</td>\n",
       "      <td>0</td>\n",
       "      <td>0</td>\n",
       "      <td>5</td>\n",
       "      <td>1350777600</td>\n",
       "      <td>Great taffy</td>\n",
       "      <td>Great taffy at a great price.  There was a wid...</td>\n",
       "    </tr>\n",
       "  </tbody>\n",
       "</table>\n",
       "</div>"
      ],
      "text/plain": [
       "   Id   ProductId          UserId                      ProfileName  \\\n",
       "0   1  B001E4KFG0  A3SGXH7AUHU8GW                       delmartian   \n",
       "1   2  B00813GRG4  A1D87F6ZCVE5NK                           dll pa   \n",
       "2   3  B000LQOCH0   ABXLMWJIXXAIN  Natalia Corres \"Natalia Corres\"   \n",
       "3   4  B000UA0QIQ  A395BORC6FGVXV                             Karl   \n",
       "4   5  B006K2ZZ7K  A1UQRSCLF8GW1T    Michael D. Bigham \"M. Wassir\"   \n",
       "\n",
       "   HelpfulnessNumerator  HelpfulnessDenominator  Score        Time  \\\n",
       "0                     1                       1      5  1303862400   \n",
       "1                     0                       0      1  1346976000   \n",
       "2                     1                       1      4  1219017600   \n",
       "3                     3                       3      2  1307923200   \n",
       "4                     0                       0      5  1350777600   \n",
       "\n",
       "                 Summary                                               Text  \n",
       "0  Good Quality Dog Food  I have bought several of the Vitality canned d...  \n",
       "1      Not as Advertised  Product arrived labeled as Jumbo Salted Peanut...  \n",
       "2  \"Delight\" says it all  This is a confection that has been around a fe...  \n",
       "3         Cough Medicine  If you are looking for the secret ingredient i...  \n",
       "4            Great taffy  Great taffy at a great price.  There was a wid...  "
      ]
     },
     "execution_count": 4,
     "metadata": {},
     "output_type": "execute_result"
    }
   ],
   "source": [
    "df.head()"
   ]
  },
  {
   "cell_type": "code",
   "execution_count": 5,
   "id": "7b6da740",
   "metadata": {},
   "outputs": [
    {
     "data": {
      "text/plain": [
       "Index(['Id', 'ProductId', 'UserId', 'ProfileName', 'HelpfulnessNumerator',\n",
       "       'HelpfulnessDenominator', 'Score', 'Time', 'Summary', 'Text'],\n",
       "      dtype='object')"
      ]
     },
     "execution_count": 5,
     "metadata": {},
     "output_type": "execute_result"
    }
   ],
   "source": [
    "df.columns"
   ]
  },
  {
   "cell_type": "code",
   "execution_count": 6,
   "id": "b5f1445b",
   "metadata": {},
   "outputs": [
    {
     "data": {
      "text/html": [
       "<div>\n",
       "<style scoped>\n",
       "    .dataframe tbody tr th:only-of-type {\n",
       "        vertical-align: middle;\n",
       "    }\n",
       "\n",
       "    .dataframe tbody tr th {\n",
       "        vertical-align: top;\n",
       "    }\n",
       "\n",
       "    .dataframe thead th {\n",
       "        text-align: right;\n",
       "    }\n",
       "</style>\n",
       "<table border=\"1\" class=\"dataframe\">\n",
       "  <thead>\n",
       "    <tr style=\"text-align: right;\">\n",
       "      <th></th>\n",
       "      <th>Id</th>\n",
       "      <th>HelpfulnessNumerator</th>\n",
       "      <th>HelpfulnessDenominator</th>\n",
       "      <th>Score</th>\n",
       "      <th>Time</th>\n",
       "    </tr>\n",
       "  </thead>\n",
       "  <tbody>\n",
       "    <tr>\n",
       "      <th>count</th>\n",
       "      <td>50000.000000</td>\n",
       "      <td>50000.000000</td>\n",
       "      <td>50000.000000</td>\n",
       "      <td>50000.000000</td>\n",
       "      <td>5.000000e+04</td>\n",
       "    </tr>\n",
       "    <tr>\n",
       "      <th>mean</th>\n",
       "      <td>25000.500000</td>\n",
       "      <td>1.603360</td>\n",
       "      <td>2.060260</td>\n",
       "      <td>4.145840</td>\n",
       "      <td>1.295198e+09</td>\n",
       "    </tr>\n",
       "    <tr>\n",
       "      <th>std</th>\n",
       "      <td>14433.901067</td>\n",
       "      <td>5.620771</td>\n",
       "      <td>6.216044</td>\n",
       "      <td>1.325596</td>\n",
       "      <td>4.734622e+07</td>\n",
       "    </tr>\n",
       "    <tr>\n",
       "      <th>min</th>\n",
       "      <td>1.000000</td>\n",
       "      <td>0.000000</td>\n",
       "      <td>0.000000</td>\n",
       "      <td>1.000000</td>\n",
       "      <td>9.617184e+08</td>\n",
       "    </tr>\n",
       "    <tr>\n",
       "      <th>25%</th>\n",
       "      <td>12500.750000</td>\n",
       "      <td>0.000000</td>\n",
       "      <td>0.000000</td>\n",
       "      <td>4.000000</td>\n",
       "      <td>1.269648e+09</td>\n",
       "    </tr>\n",
       "    <tr>\n",
       "      <th>50%</th>\n",
       "      <td>25000.500000</td>\n",
       "      <td>0.000000</td>\n",
       "      <td>1.000000</td>\n",
       "      <td>5.000000</td>\n",
       "      <td>1.309133e+09</td>\n",
       "    </tr>\n",
       "    <tr>\n",
       "      <th>75%</th>\n",
       "      <td>37500.250000</td>\n",
       "      <td>2.000000</td>\n",
       "      <td>2.000000</td>\n",
       "      <td>5.000000</td>\n",
       "      <td>1.331078e+09</td>\n",
       "    </tr>\n",
       "    <tr>\n",
       "      <th>max</th>\n",
       "      <td>50000.000000</td>\n",
       "      <td>398.000000</td>\n",
       "      <td>401.000000</td>\n",
       "      <td>5.000000</td>\n",
       "      <td>1.351210e+09</td>\n",
       "    </tr>\n",
       "  </tbody>\n",
       "</table>\n",
       "</div>"
      ],
      "text/plain": [
       "                 Id  HelpfulnessNumerator  HelpfulnessDenominator  \\\n",
       "count  50000.000000          50000.000000            50000.000000   \n",
       "mean   25000.500000              1.603360                2.060260   \n",
       "std    14433.901067              5.620771                6.216044   \n",
       "min        1.000000              0.000000                0.000000   \n",
       "25%    12500.750000              0.000000                0.000000   \n",
       "50%    25000.500000              0.000000                1.000000   \n",
       "75%    37500.250000              2.000000                2.000000   \n",
       "max    50000.000000            398.000000              401.000000   \n",
       "\n",
       "              Score          Time  \n",
       "count  50000.000000  5.000000e+04  \n",
       "mean       4.145840  1.295198e+09  \n",
       "std        1.325596  4.734622e+07  \n",
       "min        1.000000  9.617184e+08  \n",
       "25%        4.000000  1.269648e+09  \n",
       "50%        5.000000  1.309133e+09  \n",
       "75%        5.000000  1.331078e+09  \n",
       "max        5.000000  1.351210e+09  "
      ]
     },
     "execution_count": 6,
     "metadata": {},
     "output_type": "execute_result"
    }
   ],
   "source": [
    "df.describe()"
   ]
  },
  {
   "cell_type": "code",
   "execution_count": 7,
   "id": "bc2e8109",
   "metadata": {},
   "outputs": [
    {
     "name": "stdout",
     "output_type": "stream",
     "text": [
      "<class 'pandas.core.frame.DataFrame'>\n",
      "RangeIndex: 50000 entries, 0 to 49999\n",
      "Data columns (total 10 columns):\n",
      " #   Column                  Non-Null Count  Dtype \n",
      "---  ------                  --------------  ----- \n",
      " 0   Id                      50000 non-null  int64 \n",
      " 1   ProductId               50000 non-null  object\n",
      " 2   UserId                  50000 non-null  object\n",
      " 3   ProfileName             49997 non-null  object\n",
      " 4   HelpfulnessNumerator    50000 non-null  int64 \n",
      " 5   HelpfulnessDenominator  50000 non-null  int64 \n",
      " 6   Score                   50000 non-null  int64 \n",
      " 7   Time                    50000 non-null  int64 \n",
      " 8   Summary                 49998 non-null  object\n",
      " 9   Text                    50000 non-null  object\n",
      "dtypes: int64(5), object(5)\n",
      "memory usage: 3.8+ MB\n"
     ]
    }
   ],
   "source": [
    "df.info()"
   ]
  },
  {
   "cell_type": "code",
   "execution_count": 8,
   "id": "b1bc7da4",
   "metadata": {},
   "outputs": [
    {
     "data": {
      "text/html": [
       "<div>\n",
       "<style scoped>\n",
       "    .dataframe tbody tr th:only-of-type {\n",
       "        vertical-align: middle;\n",
       "    }\n",
       "\n",
       "    .dataframe tbody tr th {\n",
       "        vertical-align: top;\n",
       "    }\n",
       "\n",
       "    .dataframe thead th {\n",
       "        text-align: right;\n",
       "    }\n",
       "</style>\n",
       "<table border=\"1\" class=\"dataframe\">\n",
       "  <thead>\n",
       "    <tr style=\"text-align: right;\">\n",
       "      <th></th>\n",
       "      <th>Score</th>\n",
       "      <th>No of Users</th>\n",
       "    </tr>\n",
       "  </thead>\n",
       "  <tbody>\n",
       "    <tr>\n",
       "      <th>0</th>\n",
       "      <td>5</td>\n",
       "      <td>31130</td>\n",
       "    </tr>\n",
       "    <tr>\n",
       "      <th>1</th>\n",
       "      <td>4</td>\n",
       "      <td>7288</td>\n",
       "    </tr>\n",
       "    <tr>\n",
       "      <th>2</th>\n",
       "      <td>1</td>\n",
       "      <td>4721</td>\n",
       "    </tr>\n",
       "    <tr>\n",
       "      <th>3</th>\n",
       "      <td>3</td>\n",
       "      <td>4047</td>\n",
       "    </tr>\n",
       "    <tr>\n",
       "      <th>4</th>\n",
       "      <td>2</td>\n",
       "      <td>2814</td>\n",
       "    </tr>\n",
       "  </tbody>\n",
       "</table>\n",
       "</div>"
      ],
      "text/plain": [
       "   Score  No of Users\n",
       "0      5        31130\n",
       "1      4         7288\n",
       "2      1         4721\n",
       "3      3         4047\n",
       "4      2         2814"
      ]
     },
     "execution_count": 8,
     "metadata": {},
     "output_type": "execute_result"
    }
   ],
   "source": [
    "data1=pd.DataFrame(df.groupby('Score').size().sort_values(ascending=False).rename('No of Users').reset_index())\n",
    "data1.head()"
   ]
  },
  {
   "cell_type": "code",
   "execution_count": 9,
   "id": "e388667b",
   "metadata": {},
   "outputs": [
    {
     "data": {
      "text/html": [
       "<div>\n",
       "<style scoped>\n",
       "    .dataframe tbody tr th:only-of-type {\n",
       "        vertical-align: middle;\n",
       "    }\n",
       "\n",
       "    .dataframe tbody tr th {\n",
       "        vertical-align: top;\n",
       "    }\n",
       "\n",
       "    .dataframe thead th {\n",
       "        text-align: right;\n",
       "    }\n",
       "</style>\n",
       "<table border=\"1\" class=\"dataframe\">\n",
       "  <thead>\n",
       "    <tr style=\"text-align: right;\">\n",
       "      <th></th>\n",
       "      <th>Score</th>\n",
       "      <th>Text</th>\n",
       "      <th>Summary</th>\n",
       "      <th>UserId</th>\n",
       "    </tr>\n",
       "  </thead>\n",
       "  <tbody>\n",
       "    <tr>\n",
       "      <th>0</th>\n",
       "      <td>5</td>\n",
       "      <td>I have bought several of the Vitality canned d...</td>\n",
       "      <td>Good Quality Dog Food</td>\n",
       "      <td>A3SGXH7AUHU8GW</td>\n",
       "    </tr>\n",
       "    <tr>\n",
       "      <th>1</th>\n",
       "      <td>1</td>\n",
       "      <td>Product arrived labeled as Jumbo Salted Peanut...</td>\n",
       "      <td>Not as Advertised</td>\n",
       "      <td>A1D87F6ZCVE5NK</td>\n",
       "    </tr>\n",
       "    <tr>\n",
       "      <th>2</th>\n",
       "      <td>4</td>\n",
       "      <td>This is a confection that has been around a fe...</td>\n",
       "      <td>\"Delight\" says it all</td>\n",
       "      <td>ABXLMWJIXXAIN</td>\n",
       "    </tr>\n",
       "    <tr>\n",
       "      <th>3</th>\n",
       "      <td>2</td>\n",
       "      <td>If you are looking for the secret ingredient i...</td>\n",
       "      <td>Cough Medicine</td>\n",
       "      <td>A395BORC6FGVXV</td>\n",
       "    </tr>\n",
       "    <tr>\n",
       "      <th>4</th>\n",
       "      <td>5</td>\n",
       "      <td>Great taffy at a great price.  There was a wid...</td>\n",
       "      <td>Great taffy</td>\n",
       "      <td>A1UQRSCLF8GW1T</td>\n",
       "    </tr>\n",
       "  </tbody>\n",
       "</table>\n",
       "</div>"
      ],
      "text/plain": [
       "   Score                                               Text  \\\n",
       "0      5  I have bought several of the Vitality canned d...   \n",
       "1      1  Product arrived labeled as Jumbo Salted Peanut...   \n",
       "2      4  This is a confection that has been around a fe...   \n",
       "3      2  If you are looking for the secret ingredient i...   \n",
       "4      5  Great taffy at a great price.  There was a wid...   \n",
       "\n",
       "                 Summary          UserId  \n",
       "0  Good Quality Dog Food  A3SGXH7AUHU8GW  \n",
       "1      Not as Advertised  A1D87F6ZCVE5NK  \n",
       "2  \"Delight\" says it all   ABXLMWJIXXAIN  \n",
       "3         Cough Medicine  A395BORC6FGVXV  \n",
       "4            Great taffy  A1UQRSCLF8GW1T  "
      ]
     },
     "execution_count": 9,
     "metadata": {},
     "output_type": "execute_result"
    }
   ],
   "source": [
    "data2 = df[['Score' , 'Text' , 'Summary' , 'UserId']]\n",
    "finaldata=data2.dropna()\n",
    "finaldata.head()"
   ]
  },
  {
   "cell_type": "code",
   "execution_count": 10,
   "id": "5c6b2781",
   "metadata": {},
   "outputs": [
    {
     "name": "stderr",
     "output_type": "stream",
     "text": [
      "C:\\Users\\91982\\AppData\\Local\\Temp\\ipykernel_11680\\3299705697.py:1: SettingWithCopyWarning: \n",
      "A value is trying to be set on a copy of a slice from a DataFrame\n",
      "\n",
      "See the caveats in the documentation: https://pandas.pydata.org/pandas-docs/stable/user_guide/indexing.html#returning-a-view-versus-a-copy\n",
      "  finaldata['Summary'].fillna(\"Good\", inplace = True)\n"
     ]
    }
   ],
   "source": [
    "finaldata['Summary'].fillna(\"Good\", inplace = True)"
   ]
  },
  {
   "cell_type": "code",
   "execution_count": 11,
   "id": "a44e9991",
   "metadata": {
    "scrolled": true
   },
   "outputs": [
    {
     "data": {
      "text/plain": [
       "Score      0\n",
       "Text       0\n",
       "Summary    0\n",
       "UserId     0\n",
       "dtype: int64"
      ]
     },
     "execution_count": 11,
     "metadata": {},
     "output_type": "execute_result"
    }
   ],
   "source": [
    "finaldata.isnull().sum()"
   ]
  },
  {
   "cell_type": "code",
   "execution_count": 12,
   "id": "4b0bd44e",
   "metadata": {},
   "outputs": [
    {
     "name": "stderr",
     "output_type": "stream",
     "text": [
      "C:\\Users\\91982\\AppData\\Local\\Temp\\ipykernel_11680\\240244361.py:1: SettingWithCopyWarning: \n",
      "A value is trying to be set on a copy of a slice from a DataFrame.\n",
      "Try using .loc[row_indexer,col_indexer] = value instead\n",
      "\n",
      "See the caveats in the documentation: https://pandas.pydata.org/pandas-docs/stable/user_guide/indexing.html#returning-a-view-versus-a-copy\n",
      "  finaldata[\"Sentiment\"] = finaldata[\"Score\"].apply(lambda score: \"positive\" if score > 3 else \"negative\")\n",
      "C:\\Users\\91982\\AppData\\Local\\Temp\\ipykernel_11680\\240244361.py:2: SettingWithCopyWarning: \n",
      "A value is trying to be set on a copy of a slice from a DataFrame.\n",
      "Try using .loc[row_indexer,col_indexer] = value instead\n",
      "\n",
      "See the caveats in the documentation: https://pandas.pydata.org/pandas-docs/stable/user_guide/indexing.html#returning-a-view-versus-a-copy\n",
      "  finaldata['Sentiment'] = finaldata['Sentiment'].map({'positive':1, 'negative':0})\n"
     ]
    }
   ],
   "source": [
    "finaldata[\"Sentiment\"] = finaldata[\"Score\"].apply(lambda score: \"positive\" if score > 3 else \"negative\")\n",
    "finaldata['Sentiment'] = finaldata['Sentiment'].map({'positive':1, 'negative':0})"
   ]
  },
  {
   "cell_type": "code",
   "execution_count": 13,
   "id": "1117715f",
   "metadata": {},
   "outputs": [
    {
     "data": {
      "text/plain": [
       "Index(['Score', 'Text', 'Summary', 'UserId', 'Sentiment'], dtype='object')"
      ]
     },
     "execution_count": 13,
     "metadata": {},
     "output_type": "execute_result"
    }
   ],
   "source": [
    "finaldata.columns"
   ]
  },
  {
   "cell_type": "code",
   "execution_count": 14,
   "id": "f2701ff0",
   "metadata": {},
   "outputs": [
    {
     "name": "stdout",
     "output_type": "stream",
     "text": [
      "       Score                                               Text  \\\n",
      "0          5  I have bought several of the Vitality canned d...   \n",
      "1          1  Product arrived labeled as Jumbo Salted Peanut...   \n",
      "2          4  This is a confection that has been around a fe...   \n",
      "3          2  If you are looking for the secret ingredient i...   \n",
      "4          5  Great taffy at a great price.  There was a wid...   \n",
      "...      ...                                                ...   \n",
      "49995      5  My sister introduced me to these. They have be...   \n",
      "49996      5  A friend recommended these bars and I fell in ...   \n",
      "49997      5  Fabulous!  I take one to work with me every da...   \n",
      "49998      4  I love these bars and will continue to buy the...   \n",
      "49999      5  These are very good; nutritious, great flavor ...   \n",
      "\n",
      "                               Summary          UserId  Sentiment  \n",
      "0                Good Quality Dog Food  A3SGXH7AUHU8GW          1  \n",
      "1                    Not as Advertised  A1D87F6ZCVE5NK          0  \n",
      "2                \"Delight\" says it all   ABXLMWJIXXAIN          1  \n",
      "3                       Cough Medicine  A395BORC6FGVXV          0  \n",
      "4                          Great taffy  A1UQRSCLF8GW1T          1  \n",
      "...                                ...             ...        ...  \n",
      "49995        Grown to really like them   AKW867T7C6HF8          1  \n",
      "49996  Healthy Snack at a great price!  A2PEHNEDMHOYTW          1  \n",
      "49997   Raw Revolution Hazelnut Cashew  A2QH2KF2IAB143          1  \n",
      "49998    fantastic, but chew carefully   AMX286UGXISMA          1  \n",
      "49999          Very Tasty and Healthy.  A3042WJDYJ22S8          1  \n",
      "\n",
      "[49998 rows x 5 columns]\n"
     ]
    }
   ],
   "source": [
    "Senti = finaldata[(finaldata['Sentiment']== 0) | (finaldata['Sentiment']==1)]\n",
    "print(Senti)"
   ]
  },
  {
   "cell_type": "code",
   "execution_count": 15,
   "id": "65f0ae37",
   "metadata": {},
   "outputs": [
    {
     "name": "stdout",
     "output_type": "stream",
     "text": [
      "0                  Good Quality Dog Food\n",
      "1                      Not as Advertised\n",
      "2                  \"Delight\" says it all\n",
      "3                         Cough Medicine\n",
      "4                            Great taffy\n",
      "                      ...               \n",
      "49995          Grown to really like them\n",
      "49996    Healthy Snack at a great price!\n",
      "49997     Raw Revolution Hazelnut Cashew\n",
      "49998      fantastic, but chew carefully\n",
      "49999            Very Tasty and Healthy.\n",
      "Name: Summary, Length: 49998, dtype: object\n"
     ]
    }
   ],
   "source": [
    "y = Senti['Sentiment']\n",
    "x = Senti['Summary']\n",
    "print(x)"
   ]
  },
  {
   "cell_type": "code",
   "execution_count": 16,
   "id": "b6e09523",
   "metadata": {},
   "outputs": [
    {
     "name": "stdout",
     "output_type": "stream",
     "text": [
      "0        1\n",
      "1        0\n",
      "2        1\n",
      "3        0\n",
      "4        1\n",
      "        ..\n",
      "49995    1\n",
      "49996    1\n",
      "49997    1\n",
      "49998    1\n",
      "49999    1\n",
      "Name: Sentiment, Length: 49998, dtype: int64\n"
     ]
    }
   ],
   "source": [
    "print(y)"
   ]
  },
  {
   "cell_type": "code",
   "execution_count": 17,
   "id": "e4657e32",
   "metadata": {},
   "outputs": [],
   "source": [
    "stop = set(stopwords.words('english'))"
   ]
  },
  {
   "cell_type": "code",
   "execution_count": 18,
   "id": "74fce72a",
   "metadata": {},
   "outputs": [],
   "source": [
    "text = Senti['Text']\n",
    "labels = Senti['Sentiment']"
   ]
  },
  {
   "cell_type": "code",
   "execution_count": 19,
   "id": "5f78b22e",
   "metadata": {},
   "outputs": [],
   "source": [
    "def clean_document(doco):\n",
    "    punctuation = string.punctuation\n",
    "    punc_replace = ''.join([' ' for s in punctuation])\n",
    "    doco_link_clean = re.sub(r'http\\S+', '', doco)\n",
    "    doco_clean_and = re.sub(r'&\\S+', '', doco_link_clean)\n",
    "    doco_clean_at = re.sub(r'@\\S+', '', doco_clean_and)\n",
    "    doco_clean = doco_clean_at.replace('-', ' ')\n",
    "    doco_alphas = re.sub(r'\\W +', ' ', doco_clean)\n",
    "    trans_table = str.maketrans(punctuation, punc_replace)\n",
    "    doco_clean = ' '.join([word.translate(trans_table) for word in doco_alphas.split(' ')])\n",
    "    doco_clean = doco_clean.split(' ')\n",
    "    p = re.compile(r'\\s*\\b(?=[a-z\\d]*([a-z\\d])\\1{3}|\\d+\\b)[a-z\\d]+', re.IGNORECASE)\n",
    "    doco_clean = ([p.sub(\"\", x).strip() for x in doco_clean])\n",
    "    doco_clean = [word.lower() for word in doco_clean if len(word) > 2]\n",
    "    doco_clean = ([i for i in doco_clean if i not in stop])\n",
    "    doco_clean = ([p.sub(\"\", x).strip() for x in doco_clean])\n",
    "\n",
    "    return doco_clean"
   ]
  },
  {
   "cell_type": "code",
   "execution_count": 20,
   "id": "e1306c35",
   "metadata": {},
   "outputs": [],
   "source": [
    "clean = [clean_document(doc) for doc in text];\n",
    "sentence = [' '.join(r) for r in clean ]"
   ]
  },
  {
   "cell_type": "code",
   "execution_count": 21,
   "id": "354b2471",
   "metadata": {},
   "outputs": [
    {
     "name": "stdout",
     "output_type": "stream",
     "text": [
      "product arrived labeled jumbo salted peanuts peanuts actually small sized unsalted sure error vendor intended represent product jumbo\n"
     ]
    }
   ],
   "source": [
    "print(sentence[1])"
   ]
  },
  {
   "cell_type": "code",
   "execution_count": 22,
   "id": "f4271c88",
   "metadata": {},
   "outputs": [
    {
     "name": "stdout",
     "output_type": "stream",
     "text": [
      "Product arrived labeled as Jumbo Salted Peanuts...the peanuts were actually small sized unsalted. Not sure if this was an error or if the vendor intended to represent the product as \"Jumbo\".\n"
     ]
    }
   ],
   "source": [
    "print(text[1])"
   ]
  },
  {
   "cell_type": "code",
   "execution_count": 23,
   "id": "417fb366",
   "metadata": {},
   "outputs": [],
   "source": [
    "def text_process(text):\n",
    "    nopunc = [char for char in text if char not in string.punctuation]\n",
    "    nopunc = ''.join(nopunc) \n",
    "    return [word for word in nopunc.split() if word.lower() not in stopwords.words('english')]"
   ]
  },
  {
   "cell_type": "code",
   "execution_count": 24,
   "id": "e6a0ea30",
   "metadata": {},
   "outputs": [
    {
     "name": "stdout",
     "output_type": "stream",
     "text": [
      "['Good', 'Quality', 'Dog', 'Food']\n"
     ]
    }
   ],
   "source": [
    "tokens = x[0].split()\n",
    "print(tokens)"
   ]
  },
  {
   "cell_type": "code",
   "execution_count": 25,
   "id": "ef82e23f",
   "metadata": {},
   "outputs": [
    {
     "name": "stdout",
     "output_type": "stream",
     "text": [
      "['Hey', 'project']\n"
     ]
    }
   ],
   "source": [
    "sample_text = \"Hey there! This is a project\"\n",
    "print(text_process(sample_text))"
   ]
  },
  {
   "cell_type": "code",
   "execution_count": 26,
   "id": "66aca845",
   "metadata": {},
   "outputs": [
    {
     "data": {
      "text/plain": [
       "17086"
      ]
     },
     "execution_count": 26,
     "metadata": {},
     "output_type": "execute_result"
    }
   ],
   "source": [
    "vector = CountVectorizer(analyzer=text_process).fit(x)\n",
    "len(vector.vocabulary_)"
   ]
  },
  {
   "cell_type": "code",
   "execution_count": 27,
   "id": "72d64536",
   "metadata": {},
   "outputs": [
    {
     "name": "stdout",
     "output_type": "stream",
     "text": [
      "  (0, 568)\t1\n",
      "  (0, 12246)\t1\n"
     ]
    }
   ],
   "source": [
    "sample=x[20]\n",
    "v = vector.transform([sample])\n",
    "print(v)"
   ]
  },
  {
   "cell_type": "code",
   "execution_count": 28,
   "id": "a726d136",
   "metadata": {},
   "outputs": [],
   "source": [
    "X = vector.transform(x)"
   ]
  },
  {
   "cell_type": "code",
   "execution_count": 29,
   "id": "da5a2490",
   "metadata": {},
   "outputs": [],
   "source": [
    "from sklearn.model_selection import train_test_split\n",
    "X_train, X_test, y_train, y_test = train_test_split(X, y, train_size=0.8, random_state=101)"
   ]
  },
  {
   "cell_type": "code",
   "execution_count": 30,
   "id": "60157f97",
   "metadata": {},
   "outputs": [
    {
     "name": "stderr",
     "output_type": "stream",
     "text": [
      "C:\\Users\\91982\\anaconda3\\lib\\site-packages\\sklearn\\linear_model\\_logistic.py:814: ConvergenceWarning: lbfgs failed to converge (status=1):\n",
      "STOP: TOTAL NO. of ITERATIONS REACHED LIMIT.\n",
      "\n",
      "Increase the number of iterations (max_iter) or scale the data as shown in:\n",
      "    https://scikit-learn.org/stable/modules/preprocessing.html\n",
      "Please also refer to the documentation for alternative solver options:\n",
      "    https://scikit-learn.org/stable/modules/linear_model.html#logistic-regression\n",
      "  n_iter_i = _check_optimize_result(\n"
     ]
    },
    {
     "data": {
      "text/plain": [
       "LogisticRegression()"
      ]
     },
     "execution_count": 30,
     "metadata": {},
     "output_type": "execute_result"
    }
   ],
   "source": [
    "from sklearn.linear_model import LogisticRegression\n",
    "LRmodel = LogisticRegression()\n",
    "LRmodel.fit(X_train, y_train)"
   ]
  },
  {
   "cell_type": "code",
   "execution_count": 31,
   "id": "e69db877",
   "metadata": {},
   "outputs": [],
   "source": [
    "pred= LRmodel.predict(X_test)"
   ]
  },
  {
   "cell_type": "code",
   "execution_count": 32,
   "id": "df59983c",
   "metadata": {},
   "outputs": [
    {
     "name": "stdout",
     "output_type": "stream",
     "text": [
      "[[1183 1156]\n",
      " [ 321 7340]]\n",
      "\n",
      "\n",
      "              precision    recall  f1-score   support\n",
      "\n",
      "           0       0.79      0.51      0.62      2339\n",
      "           1       0.86      0.96      0.91      7661\n",
      "\n",
      "    accuracy                           0.85     10000\n",
      "   macro avg       0.83      0.73      0.76     10000\n",
      "weighted avg       0.85      0.85      0.84     10000\n",
      "\n"
     ]
    },
    {
     "data": {
      "text/plain": [
       "Text(33.0, 0.5, 'Truth')"
      ]
     },
     "execution_count": 32,
     "metadata": {},
     "output_type": "execute_result"
    },
    {
     "data": {
      "image/png": "[encoded data removed]",
      "text/plain": [
       "<Figure size 432x288 with 2 Axes>"
      ]
     },
     "metadata": {
      "needs_background": "light"
     },
     "output_type": "display_data"
    }
   ],
   "source": [
    "from sklearn.metrics import confusion_matrix\n",
    "from sklearn.metrics import classification_report\n",
    "cm = confusion_matrix(y_test, pred)\n",
    "print(cm)\n",
    "print('\\n')\n",
    "print(classification_report(y_test, pred))\n",
    "LRmodel.score(X_train, y_train)\n",
    "sns.heatmap(cm, annot=True, fmt='d')\n",
    "plt.xlabel('Predicted')\n",
    "plt.ylabel('Truth')"
   ]
  },
  {
   "cell_type": "code",
   "execution_count": 33,
   "id": "00870970",
   "metadata": {},
   "outputs": [
    {
     "name": "stdout",
     "output_type": "stream",
     "text": [
      "0.8523\n"
     ]
    }
   ],
   "source": [
    "from sklearn.metrics import accuracy_score\n",
    "accuracy = accuracy_score(y_test, pred)\n",
    "print(accuracy)"
   ]
  },
  {
   "cell_type": "code",
   "execution_count": 34,
   "id": "4aebd729",
   "metadata": {},
   "outputs": [
    {
     "name": "stdout",
     "output_type": "stream",
     "text": [
      "Recall : [0.5057717  0.95809946]\n"
     ]
    }
   ],
   "source": [
    "from sklearn.metrics import recall_score\n",
    "recall = recall_score(y_test, pred, average=None)\n",
    "print(\"Recall :\",recall)"
   ]
  },
  {
   "cell_type": "code",
   "execution_count": 35,
   "id": "6961d17d",
   "metadata": {},
   "outputs": [
    {
     "name": "stdout",
     "output_type": "stream",
     "text": [
      "Precision : [0.78656915 0.86393597]\n"
     ]
    }
   ],
   "source": [
    "from sklearn.metrics import precision_score\n",
    "precision = precision_score(y_test, pred, average=None) \n",
    "print(\"Precision :\",precision)"
   ]
  },
  {
   "cell_type": "code",
   "execution_count": 36,
   "id": "8cf28f71",
   "metadata": {},
   "outputs": [
    {
     "name": "stdout",
     "output_type": "stream",
     "text": [
      "F-1 Score : [0.61566485 0.90858451]\n"
     ]
    }
   ],
   "source": [
    "f1s = 2 * (precision * recall) / (precision + recall)\n",
    "print(\"F-1 Score :\",f1s)"
   ]
  },
  {
   "cell_type": "code",
   "execution_count": 37,
   "id": "ac17900e",
   "metadata": {},
   "outputs": [
    {
     "data": {
      "text/plain": [
       "'Stale, Rancid Oil Taste, And if You Like Even the Tiniest Bit of Salt Flavor on Your Chips...'"
      ]
     },
     "execution_count": 37,
     "metadata": {},
     "output_type": "execute_result"
    }
   ],
   "source": [
    "pred1 = Senti['Summary'][544]\n",
    "pred1"
   ]
  },
  {
   "cell_type": "code",
   "execution_count": 38,
   "id": "ee3b207d",
   "metadata": {},
   "outputs": [
    {
     "data": {
      "text/plain": [
       "0"
      ]
     },
     "execution_count": 38,
     "metadata": {},
     "output_type": "execute_result"
    }
   ],
   "source": [
    "Senti['Sentiment'][544]"
   ]
  },
  {
   "cell_type": "code",
   "execution_count": 39,
   "id": "6cba3608",
   "metadata": {},
   "outputs": [
    {
     "data": {
      "text/plain": [
       "0"
      ]
     },
     "execution_count": 39,
     "metadata": {},
     "output_type": "execute_result"
    }
   ],
   "source": [
    "op = vector.transform([pred1])\n",
    "LRmodel.predict(op)[0]"
   ]
  },
  {
   "cell_type": "code",
   "execution_count": 44,
   "id": "d84f11f0",
   "metadata": {},
   "outputs": [
    {
     "data": {
      "text/plain": [
       "'Nice Taffy'"
      ]
     },
     "execution_count": 44,
     "metadata": {},
     "output_type": "execute_result"
    }
   ],
   "source": [
    "pred2 = Senti['Summary'][5]\n",
    "pred2"
   ]
  },
  {
   "cell_type": "code",
   "execution_count": 45,
   "id": "9ed583d2",
   "metadata": {},
   "outputs": [
    {
     "data": {
      "text/plain": [
       "1"
      ]
     },
     "execution_count": 45,
     "metadata": {},
     "output_type": "execute_result"
    }
   ],
   "source": [
    "Senti['Sentiment'][5]"
   ]
  },
  {
   "cell_type": "code",
   "execution_count": 46,
   "id": "14b44999",
   "metadata": {},
   "outputs": [
    {
     "data": {
      "text/plain": [
       "1"
      ]
     },
     "execution_count": 46,
     "metadata": {},
     "output_type": "execute_result"
    }
   ],
   "source": [
    "op1 = vector.transform([pred2])\n",
    "LRmodel.predict(op1)[0]"
   ]
  }
 ],
 "metadata": {
  "kernelspec": {
   "display_name": "Python 3 (ipykernel)",
   "language": "python",
   "name": "python3"
  },
  "language_info": {
   "codemirror_mode": {
    "name": "ipython",
    "version": 3
   },
   "file_extension": ".py",
   "mimetype": "text/x-python",
   "name": "python",
   "nbconvert_exporter": "python",
   "pygments_lexer": "ipython3",
   "version": "3.9.12"
  }
 },
 "nbformat": 4,
 "nbformat_minor": 5
}
